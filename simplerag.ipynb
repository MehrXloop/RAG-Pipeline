{
 "cells": [
  {
   "cell_type": "code",
   "execution_count": 2,
   "id": "1affaa60",
   "metadata": {},
   "outputs": [
    {
     "data": {
      "text/plain": [
       "[Document(metadata={'source': 'speech.txt'}, page_content='Fourscore and seven years ago our fathers brought forth upon this continent a new nation, conceived in liberty, and dedicated to the proposition that all men are created equal. That noble declaration was not merely a statement for its time, but a promise meant for all generations to come. The founders pledged their lives, their fortunes, and their sacred honor to establish a republic built on freedom and justice.\\n\\nToday, we stand upon this field, consecrated by the sacrifice of those who gave their last full measure of devotion. They did not falter, though the burden was heavy and the cost immeasurable. Their courage and their blood have made this ground hallowed far beyond any words we can speak. We cannot dedicate, we cannot consecrate, we cannot hallow this soil; for it has already been sanctified by the deeds of brave men, both living and dead, who struggled here with unyielding spirit.\\n\\nYet it falls to us, the living, to carry forward the cause for which they fought. It is for us to resolve that these honored dead shall not have died in vain. Let us commit ourselves to the unfinished work—the preservation of liberty, the extension of equality, and the renewal of hope for all people. The trials of this conflict remind us that democracy is not a gift easily kept, but a trust that must be defended with vigilance, sacrifice, and unity.\\n\\nNations, like men, are tested in fire. It is in such moments of trial that the true character of a people is revealed. Shall freedom perish from this earth, or shall it rise renewed through our courage? Shall equality remain an unfulfilled promise, or shall it be carried into reality by our determination? The answer rests not with the fallen, but with us—the citizens who inherit their dream.\\n\\nThe world will little note, nor long remember, the words we speak here. Yet it can never forget what they did here. Their valor is etched into the very soil, their sacrifice written in the history of mankind. If we are to honor them rightly, let it not be with words alone, but with deeds—deeds that secure justice, protect liberty, and uphold the dignity of every person.\\n\\nTherefore, let us dedicate ourselves to a greater purpose: that this nation, under God, shall have a new birth of freedom; that government of the people, by the people, for the people, shall not perish from the earth. Let us march forward with faith that light will overcome darkness, that peace will emerge from strife, and that the promise of America will shine not only for her own children, but as a beacon to all the world.')]"
      ]
     },
     "execution_count": 2,
     "metadata": {},
     "output_type": "execute_result"
    }
   ],
   "source": [
    "# Data Ingestion\n",
    "from langchain_community.document_loaders import TextLoader\n",
    "loader=TextLoader(\"speech.txt\")\n",
    "text_document=loader.load()\n",
    "text_document"
   ]
  },
  {
   "cell_type": "code",
   "execution_count": null,
   "id": "e706ad8c",
   "metadata": {},
   "outputs": [],
   "source": [
    "import os\n",
    "from dotenv import load_dotenv\n",
    "load_dotenv()\n",
    "\n",
    "os.environ[\"OPENAI_API_KEY\"] = os.getenv(\"OPENAI_API_KEY\")"
   ]
  },
  {
   "cell_type": "code",
   "execution_count": null,
   "id": "708f9fa8",
   "metadata": {},
   "outputs": [],
   "source": [
    "# web based loader\n",
    "from langchain_community.document_loaders import "
   ]
  }
 ],
 "metadata": {
  "kernelspec": {
   "display_name": "venv",
   "language": "python",
   "name": "python3"
  },
  "language_info": {
   "codemirror_mode": {
    "name": "ipython",
    "version": 3
   },
   "file_extension": ".py",
   "mimetype": "text/x-python",
   "name": "python",
   "nbconvert_exporter": "python",
   "pygments_lexer": "ipython3",
   "version": "3.11.13"
  }
 },
 "nbformat": 4,
 "nbformat_minor": 5
}
